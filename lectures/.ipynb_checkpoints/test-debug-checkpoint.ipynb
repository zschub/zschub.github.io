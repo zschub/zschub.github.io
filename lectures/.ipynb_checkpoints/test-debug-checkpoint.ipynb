{
 "cells": [
  {
   "cell_type": "markdown",
   "metadata": {},
   "source": [
    "# Print statement debugging - debug the loop in this function with print statements."
   ]
  },
  {
   "cell_type": "code",
   "execution_count": null,
   "metadata": {},
   "outputs": [],
   "source": [
    "def calculate_average(numbers):\n",
    "    total, count = 0, 0\n",
    "\n",
    "    for idx, num in enumerate (numbers):\n",
    "        total += num\n",
    "        count += idx\n",
    "\n",
    "    average = total / count\n",
    "    return average\n"
   ]
  },
  {
   "cell_type": "markdown",
   "metadata": {},
   "source": [
    "# Add logging of identical values to the `main` function."
   ]
  },
  {
   "cell_type": "code",
   "execution_count": null,
   "metadata": {},
   "outputs": [],
   "source": [
    "import random\n",
    "import logging\n",
    "\n",
    "random.seed(2)\n",
    "\n",
    "# Set up file for local logging of all 'dem random numbers. \n",
    "# Log level DEBUG implies that this logger object will handle almost\n",
    "# all log messages.\n",
    "logging.basicConfig(\n",
    "    filename='random_numbers.log', \n",
    "    level=logging.DEBUG, \n",
    "    format='%(asctime)s - %(levelname)s - %(message)s')\n",
    "\n",
    "def generate_random_integers():\n",
    "    # Generate two random integers between 1 and 100\n",
    "    num1 = random.randint(1, 100)\n",
    "    num2 = random.randint(1, 100)\n",
    "    logging.debug(f\"Random Numbers: {num1}, {num2}\")\n",
    "        \n",
    "    return num1, num2\n",
    "\n",
    "def main():\n",
    "    identical_count = 0\n",
    "    total_iterations = 100\n",
    "\n",
    "    logging.debug (f\"Testing {total_iterations} pairs of random ints.\")\n",
    "\n",
    "    for _ in range(total_iterations):\n",
    "        num1, num2 = generate_random_integers()\n",
    "        if num1 == num2:\n",
    "            identical_count += 1\n",
    "            logging.info(f\"Identical Numbers Found: {num1}, {num2}\")\n",
    " \n",
    "    logging.info(f\"Out of {total_iterations} iterations, {identical_count} times the random numbers were identical.\")\n",
    "\n",
    "if __name__ == \"__main__\":\n",
    "    main()\n"
   ]
  },
  {
   "cell_type": "markdown",
   "metadata": {},
   "source": [
    "# Debug this function with a Python debugger    "
   ]
  },
  {
   "cell_type": "code",
   "execution_count": null,
   "metadata": {},
   "outputs": [],
   "source": [
    "# here a function is defined, do not worry about \n",
    "# how this works if you have not learnt functions yet.\n",
    "def diff(num1, num2):\n",
    "\n",
    "    # [insert a breakpoint here]\n",
    "    i = 0\n",
    "\n",
    "    # [single step through the following statements - F10]\n",
    "\n",
    "    # a difference should not be negative, so if the first\n",
    "    # number is smaller than the second, swap the numbers around\n",
    "    if (num1 < num2):\n",
    "        num1 = num2\n",
    "        num2 = num1\n",
    "\n",
    "    # [use the debugger to examine num1 and num2]\n",
    "\n",
    "    difference = num1 - num2\n",
    "    print(difference)\n",
    "\n",
    "# run the diff function to find the difference between 10 and 15; \n",
    "# we expect this to be 5\n",
    "diff(10, 15)"
   ]
  },
  {
   "cell_type": "code",
   "execution_count": null,
   "metadata": {},
   "outputs": [],
   "source": []
  },
  {
   "cell_type": "code",
   "execution_count": null,
   "metadata": {},
   "outputs": [],
   "source": []
  }
 ],
 "metadata": {
  "kernelspec": {
   "display_name": "Python 3 (ipykernel)",
   "language": "python",
   "name": "python3"
  },
  "language_info": {
   "codemirror_mode": {
    "name": "ipython",
    "version": 3
   },
   "file_extension": ".py",
   "mimetype": "text/x-python",
   "name": "python",
   "nbconvert_exporter": "python",
   "pygments_lexer": "ipython3",
   "version": "3.9.13"
  }
 },
 "nbformat": 4,
 "nbformat_minor": 4
}
