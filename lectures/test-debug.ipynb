{
 "cells": [
  {
   "cell_type": "code",
   "execution_count": 7,
   "metadata": {},
   "outputs": [],
   "source": [
    "def calculate_average(numbers):\n",
    "    total = 0\n",
    "    count = 0\n",
    "\n",
    "    for idx, num in enumerate (numbers):\n",
    "        total += num\n",
    "        count += idx\n",
    "\n",
    "    average = total / count\n",
    "    return average\n",
    "\n"
   ]
  },
  {
   "cell_type": "code",
   "execution_count": 10,
   "metadata": {},
   "outputs": [
    {
     "name": "stdout",
     "output_type": "stream",
     "text": [
      "average of [10, 20, 30, 40, 50] should be 30.0\n"
     ]
    }
   ],
   "source": [
    "try:\n",
    "\n",
    "    numbers = [10, 20, 30, 40, 50]\n",
    "    result = calculate_average(numbers)\n",
    "    assert result == 30\n",
    "\n",
    "except AssertionError:\n",
    "    print (f\"average of {numbers} should be {sum(numbers)/len(numbers)}\")\n"
   ]
  },
  {
   "cell_type": "code",
   "execution_count": null,
   "metadata": {},
   "outputs": [],
   "source": []
  }
 ],
 "metadata": {
  "kernelspec": {
   "display_name": "Python 3",
   "language": "python",
   "name": "python3"
  },
  "language_info": {
   "codemirror_mode": {
    "name": "ipython",
    "version": 3
   },
   "file_extension": ".py",
   "mimetype": "text/x-python",
   "name": "python",
   "nbconvert_exporter": "python",
   "pygments_lexer": "ipython3",
   "version": "3.10.4"
  },
  "orig_nbformat": 4
 },
 "nbformat": 4,
 "nbformat_minor": 2
}
